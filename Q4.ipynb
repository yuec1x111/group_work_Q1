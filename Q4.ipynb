{
 "cells": [
  {
   "cell_type": "code",
   "execution_count": 6,
   "id": "ebeb78cd-0bc0-485a-94e1-6931bd6251ff",
   "metadata": {},
   "outputs": [],
   "source": [
    "def argmin_x1(x2, x3):\n",
    "    return (3/2) * x2 + x3 - 1/2\n",
    "\n",
    "def argmin_x2(x1, x3):\n",
    "    return (1/6) * x1 + (1/3) * x3 + 5/6\n",
    "\n",
    "def argmin_x3(x1, x2):\n",
    "    return (1/4) * x1 + (3/4) * x2 - 1\n"
   ]
  },
  {
   "cell_type": "code",
   "execution_count": 7,
   "id": "debd3630-834c-421f-afd8-59a223306223",
   "metadata": {},
   "outputs": [
    {
     "name": "stdout",
     "output_type": "stream",
     "text": [
      "Final coordinates: (26.666666666666664, 9.555555555555555, 12.833333333333332)\n",
      "Function value: 8.154845485377136\n"
     ]
    }
   ],
   "source": [
    "import math\n",
    "\n",
    "def coordinate_descent(f, argmin, x_t0, max_iter=25):\n",
    "    x1, x2, x3 = x_t0\n",
    "    for _ in range(max_iter):\n",
    "        x1 = argmin[0](x2, x3)   # update x1\n",
    "        x2 = argmin[1](x1, x3)   # update x2\n",
    "        x3 = argmin[2](x1, x2)   # update x3\n",
    "    return (x1, x2, x3), f((x1, x2, x3))\n",
    "    \n",
    "x_t0=(1,20,5)\n",
    "\n",
    "def f(x):\n",
    "    x1, x2, x3 = x\n",
    "    return (\n",
    "        math.exp(x1 - 3*x2 + 3) +\n",
    "        math.exp(3*x2 - 2*x3 - 2) +\n",
    "        math.exp(2*x3 - x1 + 2)\n",
    "    )\n",
    "\n",
    "argmin=[argmin_x1,argmin_x2,argmin_x3]\n",
    "coords, f_val = coordinate_descent(f, argmin, x_t0, max_iter=25)\n",
    "print(\"Final coordinates:\", coords)\n",
    "print(\"Function value:\", f_val)"
   ]
  },
  {
   "cell_type": "code",
   "execution_count": 2,
   "id": "73d78a6b-2ce8-4bfa-b064-4a66d5878d5f",
   "metadata": {},
   "outputs": [
    {
     "ename": "KeyboardInterrupt",
     "evalue": "",
     "output_type": "error",
     "traceback": [
      "\u001b[31m---------------------------------------------------------------------------\u001b[39m",
      "\u001b[31mKeyboardInterrupt\u001b[39m                         Traceback (most recent call last)",
      "\u001b[36mCell\u001b[39m\u001b[36m \u001b[39m\u001b[32mIn[2]\u001b[39m\u001b[32m, line 55\u001b[39m\n\u001b[32m     52\u001b[39m path = np.array([(x1, x2) \u001b[38;5;28;01mfor\u001b[39;00m (x1, x2, x3) \u001b[38;5;129;01min\u001b[39;00m history])\n\u001b[32m     54\u001b[39m plt.figure(figsize=(\u001b[32m7\u001b[39m,\u001b[32m6\u001b[39m))\n\u001b[32m---> \u001b[39m\u001b[32m55\u001b[39m \u001b[43mplt\u001b[49m\u001b[43m.\u001b[49m\u001b[43mcontourf\u001b[49m\u001b[43m(\u001b[49m\u001b[43mX1\u001b[49m\u001b[43m,\u001b[49m\u001b[43m \u001b[49m\u001b[43mX2\u001b[49m\u001b[43m,\u001b[49m\u001b[43m \u001b[49m\u001b[43mZ\u001b[49m\u001b[43m,\u001b[49m\u001b[43m \u001b[49m\u001b[43mlevels\u001b[49m\u001b[43m=\u001b[49m\u001b[32;43m60\u001b[39;49m\u001b[43m,\u001b[49m\u001b[43m \u001b[49m\u001b[43mcmap\u001b[49m\u001b[43m=\u001b[49m\u001b[33;43m\"\u001b[39;49m\u001b[33;43mviridis\u001b[39;49m\u001b[33;43m\"\u001b[39;49m\u001b[43m)\u001b[49m\n\u001b[32m     56\u001b[39m plt.colorbar(label=\u001b[33m\"\u001b[39m\u001b[33mf(x1, x2, x3_fixed)\u001b[39m\u001b[33m\"\u001b[39m)\n\u001b[32m     57\u001b[39m plt.plot(path[:,\u001b[32m0\u001b[39m], path[:,\u001b[32m1\u001b[39m], marker=\u001b[33m\"\u001b[39m\u001b[33mo\u001b[39m\u001b[33m\"\u001b[39m, color=\u001b[33m\"\u001b[39m\u001b[33mred\u001b[39m\u001b[33m\"\u001b[39m, markersize=\u001b[32m3\u001b[39m, linewidth=\u001b[32m1\u001b[39m)\n",
      "\u001b[36mFile \u001b[39m\u001b[32m~\\AppData\\Local\\Programs\\Python\\Python311\\Lib\\site-packages\\matplotlib\\pyplot.py:3190\u001b[39m, in \u001b[36mcontourf\u001b[39m\u001b[34m(data, *args, **kwargs)\u001b[39m\n\u001b[32m   3188\u001b[39m \u001b[38;5;129m@_copy_docstring_and_deprecators\u001b[39m(Axes.contourf)\n\u001b[32m   3189\u001b[39m \u001b[38;5;28;01mdef\u001b[39;00m\u001b[38;5;250m \u001b[39m\u001b[34mcontourf\u001b[39m(*args, data=\u001b[38;5;28;01mNone\u001b[39;00m, **kwargs) -> QuadContourSet:\n\u001b[32m-> \u001b[39m\u001b[32m3190\u001b[39m     __ret = \u001b[43mgca\u001b[49m\u001b[43m(\u001b[49m\u001b[43m)\u001b[49m\u001b[43m.\u001b[49m\u001b[43mcontourf\u001b[49m\u001b[43m(\u001b[49m\n\u001b[32m   3191\u001b[39m \u001b[43m        \u001b[49m\u001b[43m*\u001b[49m\u001b[43margs\u001b[49m\u001b[43m,\u001b[49m\u001b[43m \u001b[49m\u001b[43m*\u001b[49m\u001b[43m*\u001b[49m\u001b[43m(\u001b[49m\u001b[43m{\u001b[49m\u001b[33;43m\"\u001b[39;49m\u001b[33;43mdata\u001b[39;49m\u001b[33;43m\"\u001b[39;49m\u001b[43m:\u001b[49m\u001b[43m \u001b[49m\u001b[43mdata\u001b[49m\u001b[43m}\u001b[49m\u001b[43m \u001b[49m\u001b[38;5;28;43;01mif\u001b[39;49;00m\u001b[43m \u001b[49m\u001b[43mdata\u001b[49m\u001b[43m \u001b[49m\u001b[38;5;129;43;01mis\u001b[39;49;00m\u001b[43m \u001b[49m\u001b[38;5;129;43;01mnot\u001b[39;49;00m\u001b[43m \u001b[49m\u001b[38;5;28;43;01mNone\u001b[39;49;00m\u001b[43m \u001b[49m\u001b[38;5;28;43;01melse\u001b[39;49;00m\u001b[43m \u001b[49m\u001b[43m{\u001b[49m\u001b[43m}\u001b[49m\u001b[43m)\u001b[49m\u001b[43m,\u001b[49m\u001b[43m \u001b[49m\u001b[43m*\u001b[49m\u001b[43m*\u001b[49m\u001b[43mkwargs\u001b[49m\n\u001b[32m   3192\u001b[39m \u001b[43m    \u001b[49m\u001b[43m)\u001b[49m\n\u001b[32m   3193\u001b[39m     \u001b[38;5;28;01mif\u001b[39;00m __ret._A \u001b[38;5;129;01mis\u001b[39;00m \u001b[38;5;129;01mnot\u001b[39;00m \u001b[38;5;28;01mNone\u001b[39;00m:  \u001b[38;5;66;03m# type: ignore[attr-defined]\u001b[39;00m\n\u001b[32m   3194\u001b[39m         sci(__ret)\n",
      "\u001b[36mFile \u001b[39m\u001b[32m~\\AppData\\Local\\Programs\\Python\\Python311\\Lib\\site-packages\\matplotlib\\__init__.py:1524\u001b[39m, in \u001b[36m_preprocess_data.<locals>.inner\u001b[39m\u001b[34m(ax, data, *args, **kwargs)\u001b[39m\n\u001b[32m   1521\u001b[39m \u001b[38;5;129m@functools\u001b[39m.wraps(func)\n\u001b[32m   1522\u001b[39m \u001b[38;5;28;01mdef\u001b[39;00m\u001b[38;5;250m \u001b[39m\u001b[34minner\u001b[39m(ax, *args, data=\u001b[38;5;28;01mNone\u001b[39;00m, **kwargs):\n\u001b[32m   1523\u001b[39m     \u001b[38;5;28;01mif\u001b[39;00m data \u001b[38;5;129;01mis\u001b[39;00m \u001b[38;5;28;01mNone\u001b[39;00m:\n\u001b[32m-> \u001b[39m\u001b[32m1524\u001b[39m         \u001b[38;5;28;01mreturn\u001b[39;00m \u001b[43mfunc\u001b[49m\u001b[43m(\u001b[49m\n\u001b[32m   1525\u001b[39m \u001b[43m            \u001b[49m\u001b[43max\u001b[49m\u001b[43m,\u001b[49m\n\u001b[32m   1526\u001b[39m \u001b[43m            \u001b[49m\u001b[43m*\u001b[49m\u001b[38;5;28;43mmap\u001b[39;49m\u001b[43m(\u001b[49m\u001b[43mcbook\u001b[49m\u001b[43m.\u001b[49m\u001b[43msanitize_sequence\u001b[49m\u001b[43m,\u001b[49m\u001b[43m \u001b[49m\u001b[43margs\u001b[49m\u001b[43m)\u001b[49m\u001b[43m,\u001b[49m\n\u001b[32m   1527\u001b[39m \u001b[43m            \u001b[49m\u001b[43m*\u001b[49m\u001b[43m*\u001b[49m\u001b[43m{\u001b[49m\u001b[43mk\u001b[49m\u001b[43m:\u001b[49m\u001b[43m \u001b[49m\u001b[43mcbook\u001b[49m\u001b[43m.\u001b[49m\u001b[43msanitize_sequence\u001b[49m\u001b[43m(\u001b[49m\u001b[43mv\u001b[49m\u001b[43m)\u001b[49m\u001b[43m \u001b[49m\u001b[38;5;28;43;01mfor\u001b[39;49;00m\u001b[43m \u001b[49m\u001b[43mk\u001b[49m\u001b[43m,\u001b[49m\u001b[43m \u001b[49m\u001b[43mv\u001b[49m\u001b[43m \u001b[49m\u001b[38;5;129;43;01min\u001b[39;49;00m\u001b[43m \u001b[49m\u001b[43mkwargs\u001b[49m\u001b[43m.\u001b[49m\u001b[43mitems\u001b[49m\u001b[43m(\u001b[49m\u001b[43m)\u001b[49m\u001b[43m}\u001b[49m\u001b[43m)\u001b[49m\n\u001b[32m   1529\u001b[39m     bound = new_sig.bind(ax, *args, **kwargs)\n\u001b[32m   1530\u001b[39m     auto_label = (bound.arguments.get(label_namer)\n\u001b[32m   1531\u001b[39m                   \u001b[38;5;129;01mor\u001b[39;00m bound.kwargs.get(label_namer))\n",
      "\u001b[36mFile \u001b[39m\u001b[32m~\\AppData\\Local\\Programs\\Python\\Python311\\Lib\\site-packages\\matplotlib\\axes\\_axes.py:6797\u001b[39m, in \u001b[36mAxes.contourf\u001b[39m\u001b[34m(self, *args, **kwargs)\u001b[39m\n\u001b[32m   6786\u001b[39m \u001b[38;5;250m\u001b[39m\u001b[33;03m\"\"\"\u001b[39;00m\n\u001b[32m   6787\u001b[39m \u001b[33;03mPlot filled contours.\u001b[39;00m\n\u001b[32m   6788\u001b[39m \n\u001b[32m   (...)\u001b[39m\u001b[32m   6794\u001b[39m \u001b[33;03m%(contour_doc)s\u001b[39;00m\n\u001b[32m   6795\u001b[39m \u001b[33;03m\"\"\"\u001b[39;00m\n\u001b[32m   6796\u001b[39m kwargs[\u001b[33m'\u001b[39m\u001b[33mfilled\u001b[39m\u001b[33m'\u001b[39m] = \u001b[38;5;28;01mTrue\u001b[39;00m\n\u001b[32m-> \u001b[39m\u001b[32m6797\u001b[39m contours = \u001b[43mmcontour\u001b[49m\u001b[43m.\u001b[49m\u001b[43mQuadContourSet\u001b[49m\u001b[43m(\u001b[49m\u001b[38;5;28;43mself\u001b[39;49m\u001b[43m,\u001b[49m\u001b[43m \u001b[49m\u001b[43m*\u001b[49m\u001b[43margs\u001b[49m\u001b[43m,\u001b[49m\u001b[43m \u001b[49m\u001b[43m*\u001b[49m\u001b[43m*\u001b[49m\u001b[43mkwargs\u001b[49m\u001b[43m)\u001b[49m\n\u001b[32m   6798\u001b[39m \u001b[38;5;28mself\u001b[39m._request_autoscale_view()\n\u001b[32m   6799\u001b[39m \u001b[38;5;28;01mreturn\u001b[39;00m contours\n",
      "\u001b[36mFile \u001b[39m\u001b[32m~\\AppData\\Local\\Programs\\Python\\Python311\\Lib\\site-packages\\matplotlib\\contour.py:701\u001b[39m, in \u001b[36mContourSet.__init__\u001b[39m\u001b[34m(self, ax, levels, filled, linewidths, linestyles, hatches, alpha, origin, extent, cmap, colors, norm, vmin, vmax, colorizer, extend, antialiased, nchunk, locator, transform, negative_linestyles, clip_path, *args, **kwargs)\u001b[39m\n\u001b[32m    697\u001b[39m \u001b[38;5;28;01mif\u001b[39;00m \u001b[38;5;28mself\u001b[39m.negative_linestyles \u001b[38;5;129;01mis\u001b[39;00m \u001b[38;5;28;01mNone\u001b[39;00m:\n\u001b[32m    698\u001b[39m     \u001b[38;5;28mself\u001b[39m.negative_linestyles = \\\n\u001b[32m    699\u001b[39m         mpl.rcParams[\u001b[33m'\u001b[39m\u001b[33mcontour.negative_linestyle\u001b[39m\u001b[33m'\u001b[39m]\n\u001b[32m--> \u001b[39m\u001b[32m701\u001b[39m kwargs = \u001b[38;5;28;43mself\u001b[39;49m\u001b[43m.\u001b[49m\u001b[43m_process_args\u001b[49m\u001b[43m(\u001b[49m\u001b[43m*\u001b[49m\u001b[43margs\u001b[49m\u001b[43m,\u001b[49m\u001b[43m \u001b[49m\u001b[43m*\u001b[49m\u001b[43m*\u001b[49m\u001b[43mkwargs\u001b[49m\u001b[43m)\u001b[49m\n\u001b[32m    702\u001b[39m \u001b[38;5;28mself\u001b[39m._process_levels()\n\u001b[32m    704\u001b[39m \u001b[38;5;28mself\u001b[39m._extend_min = \u001b[38;5;28mself\u001b[39m.extend \u001b[38;5;129;01min\u001b[39;00m [\u001b[33m'\u001b[39m\u001b[33mmin\u001b[39m\u001b[33m'\u001b[39m, \u001b[33m'\u001b[39m\u001b[33mboth\u001b[39m\u001b[33m'\u001b[39m]\n",
      "\u001b[36mFile \u001b[39m\u001b[32m~\\AppData\\Local\\Programs\\Python\\Python311\\Lib\\site-packages\\matplotlib\\contour.py:1303\u001b[39m, in \u001b[36mQuadContourSet._process_args\u001b[39m\u001b[34m(self, corner_mask, algorithm, *args, **kwargs)\u001b[39m\n\u001b[32m   1301\u001b[39m     \u001b[38;5;28mself\u001b[39m._algorithm = args[\u001b[32m0\u001b[39m]._algorithm\n\u001b[32m   1302\u001b[39m \u001b[38;5;28;01melse\u001b[39;00m:\n\u001b[32m-> \u001b[39m\u001b[32m1303\u001b[39m     \u001b[38;5;28;01mimport\u001b[39;00m\u001b[38;5;250m \u001b[39m\u001b[34;01mcontourpy\u001b[39;00m\n\u001b[32m   1305\u001b[39m     \u001b[38;5;28;01mif\u001b[39;00m algorithm \u001b[38;5;129;01mis\u001b[39;00m \u001b[38;5;28;01mNone\u001b[39;00m:\n\u001b[32m   1306\u001b[39m         algorithm = mpl.rcParams[\u001b[33m'\u001b[39m\u001b[33mcontour.algorithm\u001b[39m\u001b[33m'\u001b[39m]\n",
      "\u001b[36mFile \u001b[39m\u001b[32m~\\AppData\\Local\\Programs\\Python\\Python311\\Lib\\site-packages\\contourpy\\__init__.py:7\u001b[39m\n\u001b[32m      3\u001b[39m \u001b[38;5;28;01mfrom\u001b[39;00m\u001b[38;5;250m \u001b[39m\u001b[34;01mtyping\u001b[39;00m\u001b[38;5;250m \u001b[39m\u001b[38;5;28;01mimport\u001b[39;00m TYPE_CHECKING\n\u001b[32m      5\u001b[39m \u001b[38;5;28;01mimport\u001b[39;00m\u001b[38;5;250m \u001b[39m\u001b[34;01mnumpy\u001b[39;00m\u001b[38;5;250m \u001b[39m\u001b[38;5;28;01mas\u001b[39;00m\u001b[38;5;250m \u001b[39m\u001b[34;01mnp\u001b[39;00m\n\u001b[32m----> \u001b[39m\u001b[32m7\u001b[39m \u001b[38;5;28;01mfrom\u001b[39;00m\u001b[38;5;250m \u001b[39m\u001b[34;01mcontourpy\u001b[39;00m\u001b[34;01m.\u001b[39;00m\u001b[34;01m_contourpy\u001b[39;00m\u001b[38;5;250m \u001b[39m\u001b[38;5;28;01mimport\u001b[39;00m (\n\u001b[32m      8\u001b[39m     ContourGenerator,\n\u001b[32m      9\u001b[39m     FillType,\n\u001b[32m     10\u001b[39m     LineType,\n\u001b[32m     11\u001b[39m     Mpl2005ContourGenerator,\n\u001b[32m     12\u001b[39m     Mpl2014ContourGenerator,\n\u001b[32m     13\u001b[39m     SerialContourGenerator,\n\u001b[32m     14\u001b[39m     ThreadedContourGenerator,\n\u001b[32m     15\u001b[39m     ZInterp,\n\u001b[32m     16\u001b[39m     max_threads,\n\u001b[32m     17\u001b[39m )\n\u001b[32m     18\u001b[39m \u001b[38;5;28;01mfrom\u001b[39;00m\u001b[38;5;250m \u001b[39m\u001b[34;01mcontourpy\u001b[39;00m\u001b[34;01m.\u001b[39;00m\u001b[34;01m_version\u001b[39;00m\u001b[38;5;250m \u001b[39m\u001b[38;5;28;01mimport\u001b[39;00m __version__\n\u001b[32m     19\u001b[39m \u001b[38;5;28;01mfrom\u001b[39;00m\u001b[38;5;250m \u001b[39m\u001b[34;01mcontourpy\u001b[39;00m\u001b[34;01m.\u001b[39;00m\u001b[34;01mchunk\u001b[39;00m\u001b[38;5;250m \u001b[39m\u001b[38;5;28;01mimport\u001b[39;00m calc_chunk_sizes\n",
      "\u001b[31mKeyboardInterrupt\u001b[39m: "
     ]
    },
    {
     "data": {
      "image/png": "[encoded data removed]",
      "text/plain": [
       "<Figure size 700x600 with 1 Axes>"
      ]
     },
     "metadata": {},
     "output_type": "display_data"
    }
   ],
   "source": [
    "import numpy as np\n",
    "import matplotlib.pyplot as plt\n",
    "import math\n",
    "\n",
    "# your function\n",
    "def f(x):\n",
    "    x1, x2, x3 = x\n",
    "    return (\n",
    "        math.exp(x1 - 3*x2 + 3) +\n",
    "        math.exp(3*x2 - 2*x3 - 2) +\n",
    "        math.exp(2*x3 - x1 + 2)\n",
    "    )\n",
    "\n",
    "# argmin updates\n",
    "def argmin_x1(x2, x3):\n",
    "    return (3/2) * x2 + x3 - 1/2\n",
    "\n",
    "def argmin_x2(x1, x3):\n",
    "    return (1/6) * x1 + (1/3) * x3 + 5/6\n",
    "\n",
    "def argmin_x3(x1, x2):\n",
    "    return (1/4) * x1 + (3/4) * x2 - 1\n",
    "\n",
    "argmin = [argmin_x1, argmin_x2, argmin_x3]\n",
    "\n",
    "# coordinate descent with tracking\n",
    "def coordinate_descent(f, argmin, x_t0, max_iter=25):\n",
    "    x1, x2, x3 = x_t0\n",
    "    history = [(x1, x2, x3)]\n",
    "    for _ in range(max_iter):\n",
    "        x1 = argmin[0](x2, x3)   # update x1\n",
    "        history.append((x1, x2, x3))\n",
    "        x2 = argmin[1](x1, x3)   # update x2\n",
    "        history.append((x1, x2, x3))\n",
    "        x3 = argmin[2](x1, x2)   # update x3\n",
    "        history.append((x1, x2, x3))\n",
    "    return (x1, x2, x3), f((x1, x2, x3)), history\n",
    "\n",
    "# run it\n",
    "x_t0 = (1, 20, 5)\n",
    "coords, f_val, history = coordinate_descent(f, argmin, x_t0, max_iter=25)\n",
    "\n",
    "# slice visualization: fix x3 at the starting value\n",
    "x3_fixed = x_t0[2]\n",
    "x1_vals = np.linspace(-5, 10, 200)\n",
    "x2_vals = np.linspace(-5, 25, 200)\n",
    "X1, X2 = np.meshgrid(x1_vals, x2_vals)\n",
    "Z = np.array([[f((x1, x2, x3_fixed)) for x1, x2 in zip(row_x1, row_x2)] \n",
    "              for row_x1, row_x2 in zip(X1, X2)])\n",
    "\n",
    "# extract path projected onto x1-x2 plane\n",
    "path = np.array([(x1, x2) for (x1, x2, x3) in history])\n",
    "\n",
    "plt.figure(figsize=(7,6))\n",
    "plt.contourf(X1, X2, Z, levels=60, cmap=\"viridis\")\n",
    "plt.colorbar(label=\"f(x1, x2, x3_fixed)\")\n",
    "plt.plot(path[:,0], path[:,1], marker=\"o\", color=\"red\", markersize=3, linewidth=1)\n",
    "plt.xlabel(\"x1\")\n",
    "plt.ylabel(\"x2\")\n",
    "plt.title(f\"Coordinate Descent Path (x3 fixed={x3_fixed})\")\n",
    "plt.show()\n",
    "\n",
    "print(\"Final coordinates:\", coords)\n",
    "print(\"Final function value:\", f_val)\n"
   ]
  },
  {
   "cell_type": "code",
   "execution_count": null,
   "id": "0673ec15-ed12-469c-b8bd-a4e572b67c41",
   "metadata": {},
   "outputs": [],
   "source": []
  }
 ],
 "metadata": {
  "kernelspec": {
   "display_name": "Python 3 (ipykernel)",
   "language": "python",
   "name": "python3"
  },
  "language_info": {
   "codemirror_mode": {
    "name": "ipython",
    "version": 3
   },
   "file_extension": ".py",
   "mimetype": "text/x-python",
   "name": "python",
   "nbconvert_exporter": "python",
   "pygments_lexer": "ipython3",
   "version": "3.11.7"
  }
 },
 "nbformat": 4,
 "nbformat_minor": 5
}
